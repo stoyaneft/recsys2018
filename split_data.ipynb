{
 "cells": [
  {
   "cell_type": "code",
   "execution_count": 1,
   "metadata": {},
   "outputs": [],
   "source": [
    "import pandas as pd\n",
    "import numpy as np\n",
    "\n",
    "# Load data\n",
    "interactions = pd.read_csv('./data/interactions.csv', sep='\\t')\n",
    "\n"
   ]
  },
  {
   "cell_type": "code",
   "execution_count": 2,
   "metadata": {},
   "outputs": [],
   "source": [
    "interactions = interactions.values\n",
    "interactions = interactions[:10000]"
   ]
  },
  {
   "cell_type": "code",
   "execution_count": 3,
   "metadata": {},
   "outputs": [
    {
     "name": "stdout",
     "output_type": "stream",
     "text": [
      "1034\n"
     ]
    }
   ],
   "source": [
    "def get_users(interactions):\n",
    "    users = set()\n",
    "    for interaction in interactions:\n",
    "        users.add(interaction[0])\n",
    "    return users\n",
    "\n",
    "users = get_users(interactions)\n",
    "print(len(users))"
   ]
  },
  {
   "cell_type": "code",
   "execution_count": 5,
   "metadata": {},
   "outputs": [],
   "source": [
    "test_set = []\n",
    "train_set = []\n",
    "\n",
    "def split_data(all_interactions):\n",
    "    user_to_interaction = {}\n",
    "    users = get_users(interactions)\n",
    "    for user in users:\n",
    "        all_interactions = [inter for inter in interactions if inter[0] == user]\n",
    "        sorted_items = sorted(all_interactions, key=lambda x: x[3], reverse=True)\n",
    "        num_interactions_for_user = len(sorted_items)\n",
    "        to = int(round(num_interactions_for_user* 0.7))\n",
    "        train_set.extend(sorted_items[:to])\n",
    "        test_set.extend(sorted_items[to: num_interactions_for_user])\n",
    "        \n",
    "# dframe.to_csv('file_name.csv')\n",
    "split_data(interactions)\n",
    "import numpy as np\n",
    "import pandas as pd\n",
    "\n",
    "train = pd.DataFrame(train_set).to_csv('./data/interactions_train.csv')\n",
    "test = pd.DataFrame(test_set).to_csv('./data/interactions_test.csv')\n",
    "    "
   ]
  }
 ],
 "metadata": {
  "kernelspec": {
   "display_name": "Python 2",
   "language": "python",
   "name": "python2"
  },
  "language_info": {
   "codemirror_mode": {
    "name": "ipython",
    "version": 2
   },
   "file_extension": ".py",
   "mimetype": "text/x-python",
   "name": "python",
   "nbconvert_exporter": "python",
   "pygments_lexer": "ipython2",
   "version": "2.7.12"
  }
 },
 "nbformat": 4,
 "nbformat_minor": 2
}
