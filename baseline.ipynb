{
 "cells": [
  {
   "cell_type": "code",
   "execution_count": 1,
   "metadata": {},
   "outputs": [],
   "source": [
    "import pandas as pd\n",
    "import numpy as np\n",
    "\n",
    "np.random.seed(seed=7)\n",
    "# Load data\n",
    "interactions = pd.read_csv('./data/interactions.csv', sep='\\t')"
   ]
  },
  {
   "cell_type": "code",
   "execution_count": 2,
   "metadata": {},
   "outputs": [],
   "source": [
    "interactions = interactions.values\n",
    "interactions = interactions[:10000]"
   ]
  },
  {
   "cell_type": "code",
   "execution_count": 3,
   "metadata": {},
   "outputs": [
    {
     "name": "stdout",
     "output_type": "stream",
     "text": [
      "1034\n"
     ]
    }
   ],
   "source": [
    "def get_users(interactions):\n",
    "    users = set()\n",
    "    for interaction in interactions:\n",
    "        users.add(interaction[0])\n",
    "    return users\n",
    "\n",
    "users = get_users(interactions)\n",
    "print(len(users))"
   ]
  },
  {
   "cell_type": "code",
   "execution_count": 41,
   "metadata": {},
   "outputs": [
    {
     "name": "stdout",
     "output_type": "stream",
     "text": [
      "1034\n"
     ]
    }
   ],
   "source": [
    "recommendations = {}\n",
    "for user in users:\n",
    "    all_int = [inter for inter in interactions if inter[0] == user]\n",
    "    sorted_items = sorted(all_int, key=lambda x: x[2], reverse=True)\n",
    "    recommendations[user] = map(lambda x: x[1], sorted_items)[:30]\n",
    "    \n",
    "print(len(recommendations))\n",
    "    "
   ]
  },
  {
   "cell_type": "code",
   "execution_count": 32,
   "metadata": {},
   "outputs": [
    {
     "name": "stdout",
     "output_type": "stream",
     "text": [
      "(10000, 2)\n"
     ]
    }
   ],
   "source": [
    "import numpy as np\n",
    "results = pd.read_csv('./data/result.csv', sep=',')\n",
    "print(np.shape(results.values))"
   ]
  },
  {
   "cell_type": "code",
   "execution_count": 34,
   "metadata": {},
   "outputs": [
    {
     "name": "stdout",
     "output_type": "stream",
     "text": [
      "[285 902 948 ..., 2984262 2984468 2984639]\n",
      "set([2234632, 2974609, 282542, 1885334, 2944023, 2278809, 55450, 1157792, 1335075, 2969380, 2065317, 1806502, 1525489, 551081, 1079082, 1257644, 2406830, 349235, 1955639, 634553, 2467514, 1886012, 469697, 1850193, 2835411, 1299671, 2715992, 2502490, 1124571, 759902, 258786, 1294435, 1751141, 2207612, 1991274, 1333869, 914158, 1431665, 503036, 763370, 2261375])\n"
     ]
    }
   ],
   "source": [
    "res = results.values\n",
    "res = res[:,0]\n",
    "print(res)\n",
    "res_set = set(res)\n",
    "print(users.intersection(res_set))\n"
   ]
  },
  {
   "cell_type": "code",
   "execution_count": 39,
   "metadata": {},
   "outputs": [
    {
     "name": "stdout",
     "output_type": "stream",
     "text": [
      "[array([2234632, '181891 794156 61925 1033588 1140869'], dtype=object)]\n",
      "[1259162, 213472, 2368484, 213472, 1646403]\n"
     ]
    }
   ],
   "source": [
    "print((filter(lambda x: x[0] == 2234632, results.values)))\n",
    "print(recommendations[2234632])"
   ]
  },
  {
   "cell_type": "code",
   "execution_count": 6,
   "metadata": {},
   "outputs": [],
   "source": [
    "test_interactions = pd.read_csv('./data/interactions_test.csv', sep=',')\n",
    "train_interactions = pd.read_csv('./data/interactions_train.csv', sep=',')"
   ]
  },
  {
   "cell_type": "code",
   "execution_count": 7,
   "metadata": {},
   "outputs": [],
   "source": [
    "test_interactions = test_interactions.values\n",
    "train_interactions = train_interactions.values"
   ]
  },
  {
   "cell_type": "code",
   "execution_count": 8,
   "metadata": {},
   "outputs": [],
   "source": [
    "test_interactions = np.delete(test_interactions, 0, axis=1)\n",
    "train_interactions = np.delete(train_interactions, 0, axis=1)"
   ]
  },
  {
   "cell_type": "code",
   "execution_count": 14,
   "metadata": {},
   "outputs": [],
   "source": [
    "def evaluate_pred(user, prediction, testset):\n",
    "    all_int = [inter for inter in testset if inter[0] == user]\n",
    "    real_vals = [val[1] for val in all_int]\n",
    "    elements_in_common = set(prediction).intersection(set(real_vals))\n",
    "    return len(elements_in_common)"
   ]
  },
  {
   "cell_type": "code",
   "execution_count": 24,
   "metadata": {},
   "outputs": [
    {
     "name": "stdout",
     "output_type": "stream",
     "text": [
      "270\n",
      "1034\n"
     ]
    }
   ],
   "source": [
    "def get_users(interactions):\n",
    "    users = set()\n",
    "    for interaction in interactions:\n",
    "        users.add(interaction[0])\n",
    "    return users\n",
    "\n",
    "train_users = get_users(train_interactions)\n",
    "# print(len(train_users))\n",
    "# print(len(train_interactions))\n",
    "\n",
    "def get_recommendations(user, interactions):\n",
    "    all_int = [inter for inter in interactions if inter[0] == user]\n",
    "    sorted_items = sorted(all_int, key=lambda x: x[2], reverse=True)\n",
    "    return map(lambda x: x[1], sorted_items)[:30]\n",
    "\n",
    "evaluations = []\n",
    "for user in train_users:\n",
    "    rec = get_recommendations(user, train_interactions)\n",
    "    evaluations.append(evaluate_pred(user, rec, test_interactions))\n",
    "print(len([e for e in evaluations if e != 0]))\n",
    "print(len(evaluations))"
   ]
  },
  {
   "cell_type": "code",
   "execution_count": null,
   "metadata": {},
   "outputs": [],
   "source": []
  }
 ],
 "metadata": {
  "kernelspec": {
   "display_name": "Python 2",
   "language": "python",
   "name": "python2"
  },
  "language_info": {
   "codemirror_mode": {
    "name": "ipython",
    "version": 2
   },
   "file_extension": ".py",
   "mimetype": "text/x-python",
   "name": "python",
   "nbconvert_exporter": "python",
   "pygments_lexer": "ipython2",
   "version": "2.7.12"
  }
 },
 "nbformat": 4,
 "nbformat_minor": 2
}
